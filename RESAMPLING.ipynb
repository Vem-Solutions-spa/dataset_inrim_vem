{
 "cells": [
  {
   "cell_type": "code",
   "execution_count": null,
   "metadata": {},
   "outputs": [],
   "source": [
    "import matplotlib"
   ]
  },
  {
   "cell_type": "code",
   "execution_count": 1,
   "metadata": {},
   "outputs": [],
   "source": [
    "\n",
    "import pandas as pd\n",
    "import numpy as np\n",
    "from datetime import datetime\n",
    "from scipy import signal"
   ]
  },
  {
   "cell_type": "code",
   "execution_count": 2,
   "metadata": {},
   "outputs": [
    {
     "name": "stdout",
     "output_type": "stream",
     "text": [
      "C:\\Users\\reade\\dataset\\data\\180122_05Hz_epoch.csv\n",
      "C:\\Users\\reade\\dataset\\data\\180122_20Hz_epoch.csv\n",
      "C:\\Users\\reade\\dataset\\data\\180122_50Hz_epoch.csv\n"
     ]
    }
   ],
   "source": [
    "from glob import iglob\n",
    "#names = ['timestamp', 'EW','NS','Z']\n",
    "names = ['timestamp', 'freq_hz']\n",
    "# The files to resample path\n",
    "pth=\"C:\\\\Users\\\\reade\\\\dataset\\\\data\\\\\"\n",
    "i=pth+ '180127_05Hz_epoch.csv'\n",
    "# Iterate over files to resample\n",
    "for i in iglob(pth+ \"180122_*_epoch.csv\"):\n",
    "    print(i)\n",
    "    df=pd.read_csv(i,names=names)\n",
    "    # Data resampling by a factor of 40\n",
    "    noOfSamples=int(np.ceil( df.shape[0]/(40)))\n",
    "    x_resampled = signal.resample(df.freq_hz,noOfSamples,df.timestamp)\n",
    "    df=pd.DataFrame({'timestamp':x_resampled[1],'freq_hz':x_resampled[0]})\n",
    "    df.to_csv(i.replace('.csv','_RS40.csv'))"
   ]
  },
  {
   "cell_type": "code",
   "execution_count": null,
   "metadata": {},
   "outputs": [],
   "source": [
    "df.head()"
   ]
  },
  {
   "cell_type": "code",
   "execution_count": null,
   "metadata": {},
   "outputs": [],
   "source": [
    "df['datetime']=df.timestamp.map(lambda x: datetime.fromtimestamp(x).strftime('%Y-%m-%d %H:%M:%S.%f'))\n",
    "df.head()"
   ]
  },
  {
   "cell_type": "code",
   "execution_count": null,
   "metadata": {},
   "outputs": [],
   "source": [
    "# Draw the resampled and roginal data\n",
    "from matplotlib import pyplot as plt\n",
    "#plt.plot(x_resampled[1], x_resampled[0], 'ko', label='Resampled signal')\n",
    "plt.figure(figsize=(5, 4))\n",
    "plt.plot(df.timestamp, df.freq_hz, label='Original signal')\n",
    "plt.plot(x_resampled[1], x_resampled[0], 'r', label='Resampled signal')\n",
    "\n",
    "plt.legend(loc='best')\n",
    "plt.show()"
   ]
  },
  {
   "cell_type": "code",
   "execution_count": null,
   "metadata": {},
   "outputs": [],
   "source": []
  },
  {
   "cell_type": "code",
   "execution_count": null,
   "metadata": {},
   "outputs": [],
   "source": []
  }
 ],
 "metadata": {
  "kernelspec": {
   "display_name": "Python 3",
   "language": "python",
   "name": "python3"
  },
  "language_info": {
   "codemirror_mode": {
    "name": "ipython",
    "version": 3
   },
   "file_extension": ".py",
   "mimetype": "text/x-python",
   "name": "python",
   "nbconvert_exporter": "python",
   "pygments_lexer": "ipython3",
   "version": "3.6.3"
  }
 },
 "nbformat": 4,
 "nbformat_minor": 2
}
