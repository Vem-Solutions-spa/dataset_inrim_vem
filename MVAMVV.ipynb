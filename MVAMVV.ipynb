{
 "cells": [
  {
   "cell_type": "code",
   "execution_count": 6,
   "metadata": {},
   "outputs": [],
   "source": [
    "import pandas as pd\n",
    "import numpy as np\n",
    "from glob import iglob\n",
    "\n",
    "\n",
    " "
   ]
  },
  {
   "cell_type": "code",
   "execution_count": 11,
   "metadata": {},
   "outputs": [
    {
     "name": "stdout",
     "output_type": "stream",
     "text": [
      "C:\\Users\\reade\\dataset\\data\\180119_05Hz_epoch.csv\n",
      "C:\\Users\\reade\\dataset\\data\\180119_20Hz_epoch.csv\n",
      "C:\\Users\\reade\\dataset\\data\\180119_50Hz_epoch.csv\n",
      "C:\\Users\\reade\\dataset\\data\\180120_05Hz_epoch.csv\n",
      "C:\\Users\\reade\\dataset\\data\\180120_20Hz_epoch.csv\n",
      "C:\\Users\\reade\\dataset\\data\\180120_50Hz_epoch.csv\n",
      "C:\\Users\\reade\\dataset\\data\\180121_05Hz_epoch.csv\n",
      "C:\\Users\\reade\\dataset\\data\\180121_20Hz_epoch.csv\n",
      "C:\\Users\\reade\\dataset\\data\\180121_50Hz_epoch.csv\n",
      "C:\\Users\\reade\\dataset\\data\\180122_05Hz_epoch.csv\n",
      "C:\\Users\\reade\\dataset\\data\\180122_20Hz_epoch.csv\n",
      "C:\\Users\\reade\\dataset\\data\\180122_50Hz_epoch.csv\n",
      "C:\\Users\\reade\\dataset\\data\\180123_05Hz_epoch.csv\n",
      "C:\\Users\\reade\\dataset\\data\\180123_20Hz_epoch.csv\n",
      "C:\\Users\\reade\\dataset\\data\\180123_50Hz_epoch.csv\n",
      "C:\\Users\\reade\\dataset\\data\\180125_05Hz_epoch.csv\n",
      "C:\\Users\\reade\\dataset\\data\\180125_20Hz_epoch.csv\n",
      "C:\\Users\\reade\\dataset\\data\\180125_50Hz_epoch.csv\n",
      "C:\\Users\\reade\\dataset\\data\\180126_05Hz_epoch.csv\n",
      "C:\\Users\\reade\\dataset\\data\\180126_20Hz_epoch.csv\n",
      "C:\\Users\\reade\\dataset\\data\\180126_50Hz_epoch.csv\n",
      "C:\\Users\\reade\\dataset\\data\\180127_05Hz_epoch.csv\n",
      "C:\\Users\\reade\\dataset\\data\\180127_20Hz_epoch.csv\n",
      "C:\\Users\\reade\\dataset\\data\\180127_50Hz_epoch.csv\n",
      "C:\\Users\\reade\\dataset\\data\\180128_05Hz_epoch.csv\n",
      "C:\\Users\\reade\\dataset\\data\\180128_20Hz_epoch.csv\n",
      "C:\\Users\\reade\\dataset\\data\\180128_50Hz_epoch.csv\n",
      "C:\\Users\\reade\\dataset\\data\\180129_05Hz_epoch.csv\n",
      "C:\\Users\\reade\\dataset\\data\\180129_20Hz_epoch.csv\n",
      "C:\\Users\\reade\\dataset\\data\\180129_50Hz_epoch.csv\n"
     ]
    }
   ],
   "source": [
    "\n",
    "names = ['timestamp', 'freq_hz']\n",
    "# Path of Files\n",
    "pth=\"C:\\\\Users\\\\reade\\\\dataset\\\\data\\\\\"\n",
    "# Iterate over files in the path\n",
    "for i in iglob(pth+ \"*_epoch.csv\"):\n",
    "    print(i)\n",
    "    df=pd.read_csv(i,names=names)\n",
    "    out=MVA_MVV(val=df.freq_hz,index=df.timestamp,win=11)\n",
    "    out.to_csv(i.replace(\".csv\",\"_MV.csv\"))"
   ]
  },
  {
   "cell_type": "code",
   "execution_count": 3,
   "metadata": {},
   "outputs": [],
   "source": [
    "# Function to calculate the moving average and variance with non-overlapping window \n",
    "def MVA_MVV(val,index,win):\n",
    "  \n",
    "    size=len(val)\n",
    "    winH=int(win/2)\n",
    "    freq_MVA=[np.sum(val[i-winH:i+winH+1])/win for i in range(winH,size-(1+winH),win) ]\n",
    "    freq_MVV=[np.var(val[i-winH:i+winH+1])/win for i in range(winH,size-(1+winH),win) ]\n",
    "    timestamp=[index[i] for i in range(winH,size-(1+winH),win) ]\n",
    "    return pd.DataFrame({'timestamp': timestamp, 'freq_MVA':freq_MVA,'freq_MVV': freq_MVV})"
   ]
  },
  {
   "cell_type": "code",
   "execution_count": null,
   "metadata": {},
   "outputs": [],
   "source": []
  }
 ],
 "metadata": {
  "kernelspec": {
   "display_name": "Python 3",
   "language": "python",
   "name": "python3"
  },
  "language_info": {
   "codemirror_mode": {
    "name": "ipython",
    "version": 3
   },
   "file_extension": ".py",
   "mimetype": "text/x-python",
   "name": "python",
   "nbconvert_exporter": "python",
   "pygments_lexer": "ipython3",
   "version": "3.6.3"
  }
 },
 "nbformat": 4,
 "nbformat_minor": 2
}
